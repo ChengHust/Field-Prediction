{
 "metadata": {
  "language_info": {
   "codemirror_mode": {
    "name": "ipython",
    "version": 3
   },
   "file_extension": ".py",
   "mimetype": "text/x-python",
   "name": "python",
   "nbconvert_exporter": "python",
   "pygments_lexer": "ipython3",
   "version": "3.8.6"
  },
  "orig_nbformat": 2,
  "kernelspec": {
   "name": "python386jvsc74a57bd0472b32e737f0dcc95460e5473f3542eaec85f2902a4f05fae53ea676cff72f3f",
   "display_name": "Python 3.8.6 64-bit ('taichi': conda)"
  }
 },
 "nbformat": 4,
 "nbformat_minor": 2,
 "cells": [
  {
   "cell_type": "code",
   "execution_count": 4,
   "metadata": {},
   "outputs": [
    {
     "output_type": "execute_result",
     "data": {
      "text/plain": [
       "torch.Size([32, 2, 100, 110])"
      ]
     },
     "metadata": {},
     "execution_count": 4
    }
   ],
   "source": [
    "import torch\n",
    "from torchvision import transforms\n",
    "transform = transforms.functional.resize\n",
    "\n",
    "x = torch.ones(32, 2, 100, 110)\n",
    "transforms.Normalize(mean=[1, 2], std=[1, 2])(x).shape"
   ]
  },
  {
   "cell_type": "code",
   "execution_count": 5,
   "metadata": {},
   "outputs": [],
   "source": [
    "from config import get_data\n",
    "import yaml\n",
    "config_file = './configs/structured.yaml'\n",
    "with open(config_file, 'r') as f:\n",
    "    cfg = yaml.load(f, Loader=yaml.Loader)\n",
    "\n",
    "data = get_data(cfg['data'])"
   ]
  },
  {
   "cell_type": "code",
   "execution_count": 17,
   "metadata": {},
   "outputs": [
    {
     "output_type": "execute_result",
     "data": {
      "text/plain": [
       "torch.Size([2, 10, 20, 30])"
      ]
     },
     "metadata": {},
     "execution_count": 17
    }
   ],
   "source": [
    "x = torch.ones(10, 20, 30)\n",
    "torch.stack((x, x)).shape"
   ]
  }
 ]
}